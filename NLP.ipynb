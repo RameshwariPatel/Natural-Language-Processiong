{
 "cells": [
  {
   "cell_type": "code",
   "execution_count": 12,
   "metadata": {},
   "outputs": [
    {
     "name": "stdout",
     "output_type": "stream",
     "text": [
      "[nltk_data] Downloading package punkt to\n",
      "[nltk_data]     C:\\Users\\winuser\\AppData\\Roaming\\nltk_data...\n",
      "[nltk_data]   Package punkt is already up-to-date!\n"
     ]
    },
    {
     "data": {
      "text/plain": [
       "True"
      ]
     },
     "execution_count": 12,
     "metadata": {},
     "output_type": "execute_result"
    }
   ],
   "source": [
    "import nltk\n",
    "nltk.download('punkt')"
   ]
  },
  {
   "cell_type": "code",
   "execution_count": 13,
   "metadata": {},
   "outputs": [],
   "source": [
    "paragraph=\"\"\"Juliet returns home to discover the wedding has been moved ahead one day, and she is to be married tomorrow.\n",
    "That night, Juliet drinks the potion, and the Nurse discovers her, \n",
    "apparently dead, the next morning. The Capulets grieve, and Juliet is entombed according to plan.\n",
    "But Friar Lawrence’s message explaining the plan to Romeo never reaches Mantua. Its bearer, Friar John, gets confined \n",
    "to a quarantined house. Romeo hears only that Juliet is dead.Romeo learns only of Juliet’s death and decides to kill \n",
    "himself rather than live without her. He buys a vial of poison from a reluctant Apothecary, then speeds back to Verona \n",
    "to take his own life at Juliet’s tomb. Outside the Capulet crypt, Romeo comes upon Paris, who is scattering flowers on \n",
    "Juliet’s grave. They fight, and Romeo kills Paris. He enters the tomb, sees Juliet’s inanimate body, drinks the poison,\n",
    "and dies by her side. Just then, Friar Lawrence enters and realizes that Romeo has killed Paris and himself. \n",
    "At the same time, Juliet awakes. Friar Lawrence hears the coming of the watch. When Juliet refuses to leave with him,\n",
    "he flees alone. Juliet sees her beloved Romeo and realizes he has killed himself with poison. She kisses his poisoned lips, \n",
    "and when that does not kill her, buries his dagger in her chest, falling dead upon his body.\n",
    "The watch arrives, followed closely by the Prince, the Capulets, and Montague. Montague declares\n",
    "that Lady Montague has died of grief over Romeo’s exile. Seeing their children’s bodies, Capulet \n",
    "and Montague agree to end their long-standing feud and to raise gold statues of their children side-by-side in a\n",
    "newly peaceful Verona.\"\"\""
   ]
  },
  {
   "cell_type": "code",
   "execution_count": 14,
   "metadata": {},
   "outputs": [
    {
     "data": {
      "text/plain": [
       "['Juliet returns home to discover the wedding has been moved ahead one day, and she is to be married tomorrow.',\n",
       " 'That night, Juliet drinks the potion, and the Nurse discovers her, \\napparently dead, the next morning.',\n",
       " 'The Capulets grieve, and Juliet is entombed according to plan.',\n",
       " 'But Friar Lawrence’s message explaining the plan to Romeo never reaches Mantua.',\n",
       " 'Its bearer, Friar John, gets confined \\nto a quarantined house.',\n",
       " 'Romeo hears only that Juliet is dead.Romeo learns only of Juliet’s death and decides to kill \\nhimself rather than live without her.',\n",
       " 'He buys a vial of poison from a reluctant Apothecary, then speeds back to Verona \\nto take his own life at Juliet’s tomb.',\n",
       " 'Outside the Capulet crypt, Romeo comes upon Paris, who is scattering flowers on \\nJuliet’s grave.',\n",
       " 'They fight, and Romeo kills Paris.',\n",
       " 'He enters the tomb, sees Juliet’s inanimate body, drinks the poison,\\nand dies by her side.',\n",
       " 'Just then, Friar Lawrence enters and realizes that Romeo has killed Paris and himself.',\n",
       " 'At the same time, Juliet awakes.',\n",
       " 'Friar Lawrence hears the coming of the watch.',\n",
       " 'When Juliet refuses to leave with him,\\nhe flees alone.',\n",
       " 'Juliet sees her beloved Romeo and realizes he has killed himself with poison.',\n",
       " 'She kisses his poisoned lips, \\nand when that does not kill her, buries his dagger in her chest, falling dead upon his body.',\n",
       " 'The watch arrives, followed closely by the Prince, the Capulets, and Montague.',\n",
       " 'Montague declares\\nthat Lady Montague has died of grief over Romeo’s exile.',\n",
       " 'Seeing their children’s bodies, Capulet \\nand Montague agree to end their long-standing feud and to raise gold statues of their children side-by-side in a\\nnewly peaceful Verona.']"
      ]
     },
     "execution_count": 14,
     "metadata": {},
     "output_type": "execute_result"
    }
   ],
   "source": [
    "sentences = nltk.sent_tokenize(paragraph)\n",
    "sentences"
   ]
  },
  {
   "cell_type": "code",
   "execution_count": 15,
   "metadata": {},
   "outputs": [
    {
     "data": {
      "text/plain": [
       "['Juliet',\n",
       " 'returns',\n",
       " 'home',\n",
       " 'to',\n",
       " 'discover',\n",
       " 'the',\n",
       " 'wedding',\n",
       " 'has',\n",
       " 'been',\n",
       " 'moved',\n",
       " 'ahead',\n",
       " 'one',\n",
       " 'day',\n",
       " ',',\n",
       " 'and',\n",
       " 'she',\n",
       " 'is',\n",
       " 'to',\n",
       " 'be',\n",
       " 'married',\n",
       " 'tomorrow',\n",
       " '.',\n",
       " 'That',\n",
       " 'night',\n",
       " ',',\n",
       " 'Juliet',\n",
       " 'drinks',\n",
       " 'the',\n",
       " 'potion',\n",
       " ',',\n",
       " 'and',\n",
       " 'the',\n",
       " 'Nurse',\n",
       " 'discovers',\n",
       " 'her',\n",
       " ',',\n",
       " 'apparently',\n",
       " 'dead',\n",
       " ',',\n",
       " 'the',\n",
       " 'next',\n",
       " 'morning',\n",
       " '.',\n",
       " 'The',\n",
       " 'Capulets',\n",
       " 'grieve',\n",
       " ',',\n",
       " 'and',\n",
       " 'Juliet',\n",
       " 'is',\n",
       " 'entombed',\n",
       " 'according',\n",
       " 'to',\n",
       " 'plan',\n",
       " '.',\n",
       " 'But',\n",
       " 'Friar',\n",
       " 'Lawrence',\n",
       " '’',\n",
       " 's',\n",
       " 'message',\n",
       " 'explaining',\n",
       " 'the',\n",
       " 'plan',\n",
       " 'to',\n",
       " 'Romeo',\n",
       " 'never',\n",
       " 'reaches',\n",
       " 'Mantua',\n",
       " '.',\n",
       " 'Its',\n",
       " 'bearer',\n",
       " ',',\n",
       " 'Friar',\n",
       " 'John',\n",
       " ',',\n",
       " 'gets',\n",
       " 'confined',\n",
       " 'to',\n",
       " 'a',\n",
       " 'quarantined',\n",
       " 'house',\n",
       " '.',\n",
       " 'Romeo',\n",
       " 'hears',\n",
       " 'only',\n",
       " 'that',\n",
       " 'Juliet',\n",
       " 'is',\n",
       " 'dead.Romeo',\n",
       " 'learns',\n",
       " 'only',\n",
       " 'of',\n",
       " 'Juliet',\n",
       " '’',\n",
       " 's',\n",
       " 'death',\n",
       " 'and',\n",
       " 'decides',\n",
       " 'to',\n",
       " 'kill',\n",
       " 'himself',\n",
       " 'rather',\n",
       " 'than',\n",
       " 'live',\n",
       " 'without',\n",
       " 'her',\n",
       " '.',\n",
       " 'He',\n",
       " 'buys',\n",
       " 'a',\n",
       " 'vial',\n",
       " 'of',\n",
       " 'poison',\n",
       " 'from',\n",
       " 'a',\n",
       " 'reluctant',\n",
       " 'Apothecary',\n",
       " ',',\n",
       " 'then',\n",
       " 'speeds',\n",
       " 'back',\n",
       " 'to',\n",
       " 'Verona',\n",
       " 'to',\n",
       " 'take',\n",
       " 'his',\n",
       " 'own',\n",
       " 'life',\n",
       " 'at',\n",
       " 'Juliet',\n",
       " '’',\n",
       " 's',\n",
       " 'tomb',\n",
       " '.',\n",
       " 'Outside',\n",
       " 'the',\n",
       " 'Capulet',\n",
       " 'crypt',\n",
       " ',',\n",
       " 'Romeo',\n",
       " 'comes',\n",
       " 'upon',\n",
       " 'Paris',\n",
       " ',',\n",
       " 'who',\n",
       " 'is',\n",
       " 'scattering',\n",
       " 'flowers',\n",
       " 'on',\n",
       " 'Juliet',\n",
       " '’',\n",
       " 's',\n",
       " 'grave',\n",
       " '.',\n",
       " 'They',\n",
       " 'fight',\n",
       " ',',\n",
       " 'and',\n",
       " 'Romeo',\n",
       " 'kills',\n",
       " 'Paris',\n",
       " '.',\n",
       " 'He',\n",
       " 'enters',\n",
       " 'the',\n",
       " 'tomb',\n",
       " ',',\n",
       " 'sees',\n",
       " 'Juliet',\n",
       " '’',\n",
       " 's',\n",
       " 'inanimate',\n",
       " 'body',\n",
       " ',',\n",
       " 'drinks',\n",
       " 'the',\n",
       " 'poison',\n",
       " ',',\n",
       " 'and',\n",
       " 'dies',\n",
       " 'by',\n",
       " 'her',\n",
       " 'side',\n",
       " '.',\n",
       " 'Just',\n",
       " 'then',\n",
       " ',',\n",
       " 'Friar',\n",
       " 'Lawrence',\n",
       " 'enters',\n",
       " 'and',\n",
       " 'realizes',\n",
       " 'that',\n",
       " 'Romeo',\n",
       " 'has',\n",
       " 'killed',\n",
       " 'Paris',\n",
       " 'and',\n",
       " 'himself',\n",
       " '.',\n",
       " 'At',\n",
       " 'the',\n",
       " 'same',\n",
       " 'time',\n",
       " ',',\n",
       " 'Juliet',\n",
       " 'awakes',\n",
       " '.',\n",
       " 'Friar',\n",
       " 'Lawrence',\n",
       " 'hears',\n",
       " 'the',\n",
       " 'coming',\n",
       " 'of',\n",
       " 'the',\n",
       " 'watch',\n",
       " '.',\n",
       " 'When',\n",
       " 'Juliet',\n",
       " 'refuses',\n",
       " 'to',\n",
       " 'leave',\n",
       " 'with',\n",
       " 'him',\n",
       " ',',\n",
       " 'he',\n",
       " 'flees',\n",
       " 'alone',\n",
       " '.',\n",
       " 'Juliet',\n",
       " 'sees',\n",
       " 'her',\n",
       " 'beloved',\n",
       " 'Romeo',\n",
       " 'and',\n",
       " 'realizes',\n",
       " 'he',\n",
       " 'has',\n",
       " 'killed',\n",
       " 'himself',\n",
       " 'with',\n",
       " 'poison',\n",
       " '.',\n",
       " 'She',\n",
       " 'kisses',\n",
       " 'his',\n",
       " 'poisoned',\n",
       " 'lips',\n",
       " ',',\n",
       " 'and',\n",
       " 'when',\n",
       " 'that',\n",
       " 'does',\n",
       " 'not',\n",
       " 'kill',\n",
       " 'her',\n",
       " ',',\n",
       " 'buries',\n",
       " 'his',\n",
       " 'dagger',\n",
       " 'in',\n",
       " 'her',\n",
       " 'chest',\n",
       " ',',\n",
       " 'falling',\n",
       " 'dead',\n",
       " 'upon',\n",
       " 'his',\n",
       " 'body',\n",
       " '.',\n",
       " 'The',\n",
       " 'watch',\n",
       " 'arrives',\n",
       " ',',\n",
       " 'followed',\n",
       " 'closely',\n",
       " 'by',\n",
       " 'the',\n",
       " 'Prince',\n",
       " ',',\n",
       " 'the',\n",
       " 'Capulets',\n",
       " ',',\n",
       " 'and',\n",
       " 'Montague',\n",
       " '.',\n",
       " 'Montague',\n",
       " 'declares',\n",
       " 'that',\n",
       " 'Lady',\n",
       " 'Montague',\n",
       " 'has',\n",
       " 'died',\n",
       " 'of',\n",
       " 'grief',\n",
       " 'over',\n",
       " 'Romeo',\n",
       " '’',\n",
       " 's',\n",
       " 'exile',\n",
       " '.',\n",
       " 'Seeing',\n",
       " 'their',\n",
       " 'children',\n",
       " '’',\n",
       " 's',\n",
       " 'bodies',\n",
       " ',',\n",
       " 'Capulet',\n",
       " 'and',\n",
       " 'Montague',\n",
       " 'agree',\n",
       " 'to',\n",
       " 'end',\n",
       " 'their',\n",
       " 'long-standing',\n",
       " 'feud',\n",
       " 'and',\n",
       " 'to',\n",
       " 'raise',\n",
       " 'gold',\n",
       " 'statues',\n",
       " 'of',\n",
       " 'their',\n",
       " 'children',\n",
       " 'side-by-side',\n",
       " 'in',\n",
       " 'a',\n",
       " 'newly',\n",
       " 'peaceful',\n",
       " 'Verona',\n",
       " '.']"
      ]
     },
     "execution_count": 15,
     "metadata": {},
     "output_type": "execute_result"
    }
   ],
   "source": [
    "words = nltk.word_tokenize(paragraph)\n",
    "words"
   ]
  },
  {
   "cell_type": "markdown",
   "metadata": {},
   "source": [
    "# Stemming"
   ]
  },
  {
   "cell_type": "code",
   "execution_count": 16,
   "metadata": {},
   "outputs": [],
   "source": [
    "from nltk.stem import PorterStemmer"
   ]
  },
  {
   "cell_type": "code",
   "execution_count": 17,
   "metadata": {},
   "outputs": [],
   "source": [
    "sentences = nltk.sent_tokenize(paragraph)"
   ]
  },
  {
   "cell_type": "code",
   "execution_count": 18,
   "metadata": {},
   "outputs": [],
   "source": [
    "stemmer  = PorterStemmer()"
   ]
  },
  {
   "cell_type": "code",
   "execution_count": 19,
   "metadata": {},
   "outputs": [],
   "source": [
    "# STEMMING\n",
    "\n",
    "for i in range(len(sentences)):\n",
    "    words = nltk.word_tokenize(sentences[i])\n",
    "    words = [stemmer.stem(word) for word in words]\n",
    "    newwords = [stemmer.stem(word) for word in words]\n",
    "    sentences[i] = ' '.join(newwords)"
   ]
  },
  {
   "cell_type": "markdown",
   "metadata": {},
   "source": [
    "# Lemmatization"
   ]
  },
  {
   "cell_type": "code",
   "execution_count": 20,
   "metadata": {},
   "outputs": [
    {
     "name": "stdout",
     "output_type": "stream",
     "text": [
      "[nltk_data] Downloading package wordnet to\n",
      "[nltk_data]     C:\\Users\\winuser\\AppData\\Roaming\\nltk_data...\n",
      "[nltk_data]   Package wordnet is already up-to-date!\n"
     ]
    }
   ],
   "source": [
    "from nltk import WordNetLemmatizer\n",
    "nltk.download('wordnet')\n",
    "sentences = nltk.sent_tokenize(paragraph)\n",
    "lemmatizer =WordNetLemmatizer()"
   ]
  },
  {
   "cell_type": "code",
   "execution_count": 21,
   "metadata": {},
   "outputs": [],
   "source": [
    " # LEMATIZATION\n",
    "for i in range(len(sentences)):\n",
    "    words = nltk.word_tokenize(sentences[i])\n",
    "    \n",
    "    newwords = [lemmatizer.lemmatize(word) for word in words]\n",
    "    sentences[i]=' '.join(newwords)"
   ]
  },
  {
   "cell_type": "markdown",
   "metadata": {},
   "source": [
    "# Stop Word Removal"
   ]
  },
  {
   "cell_type": "code",
   "execution_count": 22,
   "metadata": {},
   "outputs": [
    {
     "name": "stdout",
     "output_type": "stream",
     "text": [
      "[nltk_data] Downloading package stopwords to\n",
      "[nltk_data]     C:\\Users\\winuser\\AppData\\Roaming\\nltk_data...\n",
      "[nltk_data]   Package stopwords is already up-to-date!\n"
     ]
    }
   ],
   "source": [
    "nltk.download('stopwords')\n",
    "from nltk.corpus import  stopwords"
   ]
  },
  {
   "cell_type": "code",
   "execution_count": 23,
   "metadata": {},
   "outputs": [],
   "source": [
    "sentences = nltk.sent_tokenize(paragraph)\n",
    "\n",
    "for i in range(len(sentences)):\n",
    "    words = nltk.word_tokenize(sentences[i])\n",
    "    newwords = [word for word in words if word not in stopwords.words('english')]\n",
    "    sentences[i] = ' '.join(newwords)\n"
   ]
  },
  {
   "cell_type": "markdown",
   "metadata": {},
   "source": [
    "# Parts Of Speech"
   ]
  },
  {
   "cell_type": "code",
   "execution_count": 24,
   "metadata": {},
   "outputs": [
    {
     "name": "stdout",
     "output_type": "stream",
     "text": [
      "[nltk_data] Downloading package averaged_perceptron_tagger to\n",
      "[nltk_data]     C:\\Users\\winuser\\AppData\\Roaming\\nltk_data...\n",
      "[nltk_data]   Package averaged_perceptron_tagger is already up-to-\n",
      "[nltk_data]       date!\n"
     ]
    },
    {
     "data": {
      "text/plain": [
       "True"
      ]
     },
     "execution_count": 24,
     "metadata": {},
     "output_type": "execute_result"
    }
   ],
   "source": [
    "nltk.download('averaged_perceptron_tagger')\n"
   ]
  },
  {
   "cell_type": "code",
   "execution_count": 25,
   "metadata": {},
   "outputs": [],
   "source": [
    "words = nltk.word_tokenize(paragraph)\n",
    "\n",
    "tagged_words = nltk.pos_tag(words)\n",
    "\n",
    "word_tags =[]\n",
    "for tw in tagged_words:\n",
    "    word_tags.append(tw[0]+\"_\"+tw[1])"
   ]
  },
  {
   "cell_type": "code",
   "execution_count": 26,
   "metadata": {},
   "outputs": [
    {
     "data": {
      "text/plain": [
       "['Juliet_NNP',\n",
       " 'returns_VBZ',\n",
       " 'home_NN',\n",
       " 'to_TO',\n",
       " 'discover_VB',\n",
       " 'the_DT',\n",
       " 'wedding_NN',\n",
       " 'has_VBZ',\n",
       " 'been_VBN',\n",
       " 'moved_VBN',\n",
       " 'ahead_RB',\n",
       " 'one_CD',\n",
       " 'day_NN',\n",
       " ',_,',\n",
       " 'and_CC',\n",
       " 'she_PRP',\n",
       " 'is_VBZ',\n",
       " 'to_TO',\n",
       " 'be_VB',\n",
       " 'married_VBN',\n",
       " 'tomorrow_NN',\n",
       " '._.',\n",
       " 'That_DT',\n",
       " 'night_NN',\n",
       " ',_,',\n",
       " 'Juliet_NNP',\n",
       " 'drinks_VBZ',\n",
       " 'the_DT',\n",
       " 'potion_NN',\n",
       " ',_,',\n",
       " 'and_CC',\n",
       " 'the_DT',\n",
       " 'Nurse_NNP',\n",
       " 'discovers_VBZ',\n",
       " 'her_PRP$',\n",
       " ',_,',\n",
       " 'apparently_RB',\n",
       " 'dead_JJ',\n",
       " ',_,',\n",
       " 'the_DT',\n",
       " 'next_JJ',\n",
       " 'morning_NN',\n",
       " '._.',\n",
       " 'The_DT',\n",
       " 'Capulets_NNPS',\n",
       " 'grieve_VBP',\n",
       " ',_,',\n",
       " 'and_CC',\n",
       " 'Juliet_NNP',\n",
       " 'is_VBZ',\n",
       " 'entombed_VBN',\n",
       " 'according_VBG',\n",
       " 'to_TO',\n",
       " 'plan_NN',\n",
       " '._.',\n",
       " 'But_CC',\n",
       " 'Friar_NNP',\n",
       " 'Lawrence_NNP',\n",
       " '’_NNP',\n",
       " 's_JJ',\n",
       " 'message_NN',\n",
       " 'explaining_VBG',\n",
       " 'the_DT',\n",
       " 'plan_NN',\n",
       " 'to_TO',\n",
       " 'Romeo_VB',\n",
       " 'never_RB',\n",
       " 'reaches_VBZ',\n",
       " 'Mantua_NNP',\n",
       " '._.',\n",
       " 'Its_PRP$',\n",
       " 'bearer_NN',\n",
       " ',_,',\n",
       " 'Friar_NNP',\n",
       " 'John_NNP',\n",
       " ',_,',\n",
       " 'gets_VBZ',\n",
       " 'confined_VBN',\n",
       " 'to_TO',\n",
       " 'a_DT',\n",
       " 'quarantined_VBN',\n",
       " 'house_NN',\n",
       " '._.',\n",
       " 'Romeo_NNP',\n",
       " 'hears_VBZ',\n",
       " 'only_RB',\n",
       " 'that_IN',\n",
       " 'Juliet_NNP',\n",
       " 'is_VBZ',\n",
       " 'dead.Romeo_JJ',\n",
       " 'learns_NNS',\n",
       " 'only_RB',\n",
       " 'of_IN',\n",
       " 'Juliet_NNP',\n",
       " '’_NNP',\n",
       " 's_VBD',\n",
       " 'death_NN',\n",
       " 'and_CC',\n",
       " 'decides_VBZ',\n",
       " 'to_TO',\n",
       " 'kill_VB',\n",
       " 'himself_PRP',\n",
       " 'rather_RB',\n",
       " 'than_IN',\n",
       " 'live_VB',\n",
       " 'without_IN',\n",
       " 'her_PRP',\n",
       " '._.',\n",
       " 'He_PRP',\n",
       " 'buys_VBZ',\n",
       " 'a_DT',\n",
       " 'vial_NN',\n",
       " 'of_IN',\n",
       " 'poison_NN',\n",
       " 'from_IN',\n",
       " 'a_DT',\n",
       " 'reluctant_JJ',\n",
       " 'Apothecary_NNP',\n",
       " ',_,',\n",
       " 'then_RB',\n",
       " 'speeds_VBZ',\n",
       " 'back_RB',\n",
       " 'to_TO',\n",
       " 'Verona_NNP',\n",
       " 'to_TO',\n",
       " 'take_VB',\n",
       " 'his_PRP$',\n",
       " 'own_JJ',\n",
       " 'life_NN',\n",
       " 'at_IN',\n",
       " 'Juliet_NNP',\n",
       " '’_NNP',\n",
       " 's_VBD',\n",
       " 'tomb_NN',\n",
       " '._.',\n",
       " 'Outside_IN',\n",
       " 'the_DT',\n",
       " 'Capulet_NNP',\n",
       " 'crypt_NN',\n",
       " ',_,',\n",
       " 'Romeo_NNP',\n",
       " 'comes_VBZ',\n",
       " 'upon_IN',\n",
       " 'Paris_NNP',\n",
       " ',_,',\n",
       " 'who_WP',\n",
       " 'is_VBZ',\n",
       " 'scattering_VBG',\n",
       " 'flowers_NNS',\n",
       " 'on_IN',\n",
       " 'Juliet_NNP',\n",
       " '’_NNP',\n",
       " 's_NN',\n",
       " 'grave_NN',\n",
       " '._.',\n",
       " 'They_PRP',\n",
       " 'fight_VBD',\n",
       " ',_,',\n",
       " 'and_CC',\n",
       " 'Romeo_NNP',\n",
       " 'kills_NNS',\n",
       " 'Paris_NNP',\n",
       " '._.',\n",
       " 'He_PRP',\n",
       " 'enters_VBZ',\n",
       " 'the_DT',\n",
       " 'tomb_NN',\n",
       " ',_,',\n",
       " 'sees_VBZ',\n",
       " 'Juliet_NNP',\n",
       " '’_NNP',\n",
       " 's_JJ',\n",
       " 'inanimate_NN',\n",
       " 'body_NN',\n",
       " ',_,',\n",
       " 'drinks_VBZ',\n",
       " 'the_DT',\n",
       " 'poison_NN',\n",
       " ',_,',\n",
       " 'and_CC',\n",
       " 'dies_NNS',\n",
       " 'by_IN',\n",
       " 'her_PRP$',\n",
       " 'side_NN',\n",
       " '._.',\n",
       " 'Just_NNP',\n",
       " 'then_RB',\n",
       " ',_,',\n",
       " 'Friar_NNP',\n",
       " 'Lawrence_NNP',\n",
       " 'enters_NNS',\n",
       " 'and_CC',\n",
       " 'realizes_VBZ',\n",
       " 'that_DT',\n",
       " 'Romeo_NNP',\n",
       " 'has_VBZ',\n",
       " 'killed_VBN',\n",
       " 'Paris_NNP',\n",
       " 'and_CC',\n",
       " 'himself_PRP',\n",
       " '._.',\n",
       " 'At_IN',\n",
       " 'the_DT',\n",
       " 'same_JJ',\n",
       " 'time_NN',\n",
       " ',_,',\n",
       " 'Juliet_NNP',\n",
       " 'awakes_VBZ',\n",
       " '._.',\n",
       " 'Friar_NNP',\n",
       " 'Lawrence_NNP',\n",
       " 'hears_VBZ',\n",
       " 'the_DT',\n",
       " 'coming_VBG',\n",
       " 'of_IN',\n",
       " 'the_DT',\n",
       " 'watch_NN',\n",
       " '._.',\n",
       " 'When_WRB',\n",
       " 'Juliet_JJ',\n",
       " 'refuses_NNS',\n",
       " 'to_TO',\n",
       " 'leave_VB',\n",
       " 'with_IN',\n",
       " 'him_PRP',\n",
       " ',_,',\n",
       " 'he_PRP',\n",
       " 'flees_VBZ',\n",
       " 'alone_RB',\n",
       " '._.',\n",
       " 'Juliet_JJ',\n",
       " 'sees_VBZ',\n",
       " 'her_PRP$',\n",
       " 'beloved_JJ',\n",
       " 'Romeo_NNP',\n",
       " 'and_CC',\n",
       " 'realizes_VBZ',\n",
       " 'he_PRP',\n",
       " 'has_VBZ',\n",
       " 'killed_VBN',\n",
       " 'himself_PRP',\n",
       " 'with_IN',\n",
       " 'poison_NN',\n",
       " '._.',\n",
       " 'She_PRP',\n",
       " 'kisses_VBZ',\n",
       " 'his_PRP$',\n",
       " 'poisoned_JJ',\n",
       " 'lips_NNS',\n",
       " ',_,',\n",
       " 'and_CC',\n",
       " 'when_WRB',\n",
       " 'that_WDT',\n",
       " 'does_VBZ',\n",
       " 'not_RB',\n",
       " 'kill_VB',\n",
       " 'her_PRP',\n",
       " ',_,',\n",
       " 'buries_VBZ',\n",
       " 'his_PRP$',\n",
       " 'dagger_NN',\n",
       " 'in_IN',\n",
       " 'her_PRP$',\n",
       " 'chest_NN',\n",
       " ',_,',\n",
       " 'falling_VBG',\n",
       " 'dead_JJ',\n",
       " 'upon_IN',\n",
       " 'his_PRP$',\n",
       " 'body_NN',\n",
       " '._.',\n",
       " 'The_DT',\n",
       " 'watch_NN',\n",
       " 'arrives_VBZ',\n",
       " ',_,',\n",
       " 'followed_VBD',\n",
       " 'closely_RB',\n",
       " 'by_IN',\n",
       " 'the_DT',\n",
       " 'Prince_NNP',\n",
       " ',_,',\n",
       " 'the_DT',\n",
       " 'Capulets_NNP',\n",
       " ',_,',\n",
       " 'and_CC',\n",
       " 'Montague_NNP',\n",
       " '._.',\n",
       " 'Montague_NNP',\n",
       " 'declares_VBZ',\n",
       " 'that_IN',\n",
       " 'Lady_NNP',\n",
       " 'Montague_NNP',\n",
       " 'has_VBZ',\n",
       " 'died_VBN',\n",
       " 'of_IN',\n",
       " 'grief_NN',\n",
       " 'over_IN',\n",
       " 'Romeo_NNP',\n",
       " '’_NNP',\n",
       " 's_NN',\n",
       " 'exile_NN',\n",
       " '._.',\n",
       " 'Seeing_VBG',\n",
       " 'their_PRP$',\n",
       " 'children_NNS',\n",
       " '’_VBP',\n",
       " 's_JJ',\n",
       " 'bodies_NNS',\n",
       " ',_,',\n",
       " 'Capulet_NNP',\n",
       " 'and_CC',\n",
       " 'Montague_NNP',\n",
       " 'agree_VBP',\n",
       " 'to_TO',\n",
       " 'end_VB',\n",
       " 'their_PRP$',\n",
       " 'long-standing_JJ',\n",
       " 'feud_NN',\n",
       " 'and_CC',\n",
       " 'to_TO',\n",
       " 'raise_VB',\n",
       " 'gold_NN',\n",
       " 'statues_NNS',\n",
       " 'of_IN',\n",
       " 'their_PRP$',\n",
       " 'children_NNS',\n",
       " 'side-by-side_RB',\n",
       " 'in_IN',\n",
       " 'a_DT',\n",
       " 'newly_RB',\n",
       " 'peaceful_JJ',\n",
       " 'Verona_NNP',\n",
       " '._.']"
      ]
     },
     "execution_count": 26,
     "metadata": {},
     "output_type": "execute_result"
    }
   ],
   "source": [
    "word_tags"
   ]
  },
  {
   "cell_type": "markdown",
   "metadata": {},
   "source": [
    "# Named Entity \n"
   ]
  },
  {
   "cell_type": "code",
   "execution_count": 27,
   "metadata": {},
   "outputs": [
    {
     "name": "stdout",
     "output_type": "stream",
     "text": [
      "[nltk_data] Downloading package maxent_ne_chunker to\n",
      "[nltk_data]     C:\\Users\\winuser\\AppData\\Roaming\\nltk_data...\n",
      "[nltk_data]   Package maxent_ne_chunker is already up-to-date!\n",
      "[nltk_data] Downloading package words to\n",
      "[nltk_data]     C:\\Users\\winuser\\AppData\\Roaming\\nltk_data...\n",
      "[nltk_data]   Package words is already up-to-date!\n"
     ]
    },
    {
     "data": {
      "text/plain": [
       "True"
      ]
     },
     "execution_count": 27,
     "metadata": {},
     "output_type": "execute_result"
    }
   ],
   "source": [
    "nltk.download('maxent_ne_chunker')\n",
    "nltk.download('words')"
   ]
  },
  {
   "cell_type": "code",
   "execution_count": 28,
   "metadata": {},
   "outputs": [],
   "source": [
    "named_entity=nltk.ne_chunk(tagged_words)\n",
    "#named_entity.draw()"
   ]
  },
  {
   "cell_type": "markdown",
   "metadata": {},
   "source": [
    "# Bag OF Words"
   ]
  },
  {
   "cell_type": "code",
   "execution_count": 29,
   "metadata": {},
   "outputs": [],
   "source": [
    "import re\n",
    "dataset = nltk.sent_tokenize(paragraph)"
   ]
  },
  {
   "cell_type": "code",
   "execution_count": 30,
   "metadata": {},
   "outputs": [],
   "source": [
    "for i in range(len(dataset)):\n",
    "    dataset[i] = dataset[i].lower()\n",
    "    dataset[i] = re.sub(r'\\W',' ',dataset[i])\n",
    "    dataset[i] = re.sub(r'\\s+',' ',dataset[i])"
   ]
  },
  {
   "cell_type": "code",
   "execution_count": 31,
   "metadata": {},
   "outputs": [
    {
     "data": {
      "text/plain": [
       "'juliet returns home to discover the wedding has been moved ahead one day and she is to be married tomorrow '"
      ]
     },
     "execution_count": 31,
     "metadata": {},
     "output_type": "execute_result"
    }
   ],
   "source": [
    "dataset[0]"
   ]
  },
  {
   "cell_type": "code",
   "execution_count": 32,
   "metadata": {},
   "outputs": [],
   "source": [
    "## CREATING HISTOGRAMS\n",
    "word2count = {}\n",
    "for data in dataset:\n",
    "    words = nltk.word_tokenize(data)\n",
    "    for word in words:\n",
    "        if word not in word2count.keys():\n",
    "            word2count[word]=1\n",
    "        else:\n",
    "            word2count[word] += 1\n",
    "#word2count"
   ]
  },
  {
   "cell_type": "code",
   "execution_count": 33,
   "metadata": {},
   "outputs": [],
   "source": [
    "import heapq  # tofind the n largest or n most frequent words\n"
   ]
  },
  {
   "cell_type": "code",
   "execution_count": 34,
   "metadata": {},
   "outputs": [],
   "source": [
    "freq_words = heapq.nlargest(100,word2count,key=word2count.get)"
   ]
  },
  {
   "cell_type": "code",
   "execution_count": 35,
   "metadata": {},
   "outputs": [],
   "source": [
    "#freq_words"
   ]
  },
  {
   "cell_type": "markdown",
   "metadata": {},
   "source": [
    "# BUILDING BAG OF WORDS MODEL"
   ]
  },
  {
   "cell_type": "code",
   "execution_count": 36,
   "metadata": {},
   "outputs": [],
   "source": [
    "\n",
    "import numpy as np\n",
    "X = []\n",
    "for data in dataset:\n",
    "    vector=[]\n",
    "    for word in freq_words:\n",
    "        if word in nltk.word_tokenize(data):\n",
    "            vector.append(1)\n",
    "        else:\n",
    "            vector.append(0)\n",
    "    X.append(vector)"
   ]
  },
  {
   "cell_type": "code",
   "execution_count": 37,
   "metadata": {},
   "outputs": [],
   "source": [
    "X = np.asarray(X)"
   ]
  },
  {
   "cell_type": "markdown",
   "metadata": {},
   "source": [
    "# Creating TF-IDF Model"
   ]
  },
  {
   "cell_type": "code",
   "execution_count": 38,
   "metadata": {},
   "outputs": [],
   "source": [
    "# IDF MATRIX\n",
    "word_idfs ={}\n",
    "\n",
    "for word in freq_words:\n",
    "    doc_count = 0\n",
    "    for data in dataset:\n",
    "        if word in nltk.word_tokenize(data):\n",
    "            doc_count += 1\n",
    "    word_idfs[word] = np.log((len(dataset)/doc_count)+1)"
   ]
  },
  {
   "cell_type": "code",
   "execution_count": 39,
   "metadata": {},
   "outputs": [],
   "source": [
    "# TF MATRIX\n",
    "tf_matrix = {}\n",
    "for word in freq_words:\n",
    "    doc_tf = []\n",
    "    for data in dataset:\n",
    "        frequency = 0\n",
    "        for w in nltk.word_tokenize(data):\n",
    "            if w == word:\n",
    "                frequency += 1\n",
    "        tf_word = frequency/len(nltk.word_tokenize(data))\n",
    "        doc_tf.append(tf_word)\n",
    "    tf_matrix[word]=doc_tf"
   ]
  },
  {
   "cell_type": "code",
   "execution_count": 40,
   "metadata": {},
   "outputs": [],
   "source": [
    "# TF-IDF CALCULATION\n",
    "tfidf_matrix = []\n",
    "for word in tf_matrix.keys():\n",
    "    tfidf=[]\n",
    "    for value in tf_matrix[word]:\n",
    "        score = value * word_idfs[word]\n",
    "        tfidf.append(score)\n",
    "    tfidf_matrix.append(tfidf)    \n",
    "        "
   ]
  },
  {
   "cell_type": "code",
   "execution_count": 41,
   "metadata": {},
   "outputs": [],
   "source": [
    "X= np.transpose(tfidf_matrix)"
   ]
  },
  {
   "cell_type": "markdown",
   "metadata": {},
   "source": [
    "#  CHARACTER N GRAM MODEL"
   ]
  },
  {
   "cell_type": "code",
   "execution_count": 42,
   "metadata": {},
   "outputs": [],
   "source": [
    "import random"
   ]
  },
  {
   "cell_type": "code",
   "execution_count": 43,
   "metadata": {},
   "outputs": [],
   "source": [
    "text =\"\"\" Juliet returns home to discover the wedding has been moved ahead one day, and she is to be married tomorrow.\\nThat night, Juliet drinks the potion, and the Nurse discovers her, \\napparently dead, the next morning. The Capulets grieve, and Juliet is entombed according to plan.\\nBut Friar Lawrence’s message explaining the plan to Romeo never reaches Mantua. Its bearer, Friar John, gets confined \\nto a quarantined house. Romeo hears only that Juliet is dead.Romeo learns only of Juliet’s death and decides to kill \\nhimself rather than live without her. He buys a vial of poison from a reluctant Apothecary, then speeds back to Verona \\nto take his own life at Juliet’s tomb. Outside the Capulet crypt, Romeo comes upon Paris, who is scattering flowers on \\nJuliet’s grave. They fight, and Romeo kills Paris. He enters the tomb, sees Juliet’s inanimate body, drinks the poison,\\nand dies by her side. Just then, Friar Lawrence enters and realizes that Romeo has killed Paris and himself. \\nAt the same time, Juliet awakes. Friar Lawrence hears the coming of the watch. When Juliet refuses to leave with him,\\nhe flees alone. Juliet sees her beloved Romeo and realizes he has killed himself with poison. She kisses his poisoned lips, \\nand when that does not kill her, buries his dagger in her chest, falling dead upon his body.The watch arrives, followed closely by the Prince, the Capulets, and Montague. Montague declares that Lady Montague has died of grief over Romeo’s exile. Seeing their children’s bodies, Capulet and Montague agree to end their long-standing feud and to raise gold statues of their children side-by-side in a newly peaceful Verona. \"\"\""
   ]
  },
  {
   "cell_type": "code",
   "execution_count": 44,
   "metadata": {},
   "outputs": [],
   "source": [
    "n= 6\n",
    "ngrams = {}\n",
    "    "
   ]
  },
  {
   "cell_type": "code",
   "execution_count": 45,
   "metadata": {},
   "outputs": [],
   "source": [
    "#Create the n grams\n",
    "\n",
    "for i in range(len(text)- n):\n",
    "    gram = text[i:i+n]\n",
    "    if gram not in ngrams.keys():\n",
    "        ngrams[gram] = []\n",
    "    ngrams[gram].append(text[i+n])"
   ]
  },
  {
   "cell_type": "code",
   "execution_count": 46,
   "metadata": {},
   "outputs": [],
   "source": [
    "# TESTING OUR N_GRAM MODEL"
   ]
  },
  {
   "cell_type": "code",
   "execution_count": 47,
   "metadata": {},
   "outputs": [
    {
     "name": "stdout",
     "output_type": "stream",
     "text": [
      " Juliet awakes. Friar Lawrence enters and himself rather than live with poison. She kisses his dagger in h\n"
     ]
    }
   ],
   "source": [
    "currentGram = text[0 : n]\n",
    "result = currentGram\n",
    "for i in range(100):\n",
    "    if currentGram not in ngrams.keys():\n",
    "        break\n",
    "    possibilities = ngrams[currentGram]\n",
    "    nextItem = possibilities[random.randrange(len(possibilities))]\n",
    "    result += nextItem\n",
    "    currentGram = result[len(result)-n:len(result)]\n",
    "    \n",
    "print(result)\n"
   ]
  },
  {
   "cell_type": "markdown",
   "metadata": {},
   "source": [
    "# WORD N GRAM MODEL"
   ]
  },
  {
   "cell_type": "code",
   "execution_count": 48,
   "metadata": {},
   "outputs": [],
   "source": [
    "import nltk"
   ]
  },
  {
   "cell_type": "code",
   "execution_count": 51,
   "metadata": {},
   "outputs": [
    {
     "name": "stdout",
     "output_type": "stream",
     "text": [
      "Juliet returns home to discover the wedding has been moved ahead one day , and she is to be married tomorrow . That night , Juliet drinks the potion , and the Nurse discovers her , apparently dead , the next morning . The Capulets grieve , and Juliet is entombed according to plan . But Friar Lawrence ’ s message explaining the plan to Romeo never reaches Mantua . Its bearer , Friar John , gets confined to a quarantined house . Romeo hears only that Juliet is dead.Romeo learns only of Juliet ’ s inanimate body , drinks the poison , and dies by her side . Just then , Friar Lawrence enters and realizes that Romeo has killed Paris and himself . At the same time , Juliet awakes . Friar Lawrence hears the coming of the watch . When Juliet refuses to leave with him , he flees alone . Juliet sees her beloved Romeo and realizes he has killed himself with poison . She kisses his poisoned lips , and when that does not kill her , buries his dagger in her chest , falling dead upon his body.The watch arrives , followed closely by the Prince , the Capulets , and Montague . Montague declares that Lady Montague has died of grief over Romeo ’ s exile . Seeing their children ’ s bodies , Capulet and Montague agree to end their long-standing feud and to raise gold statues of their children side-by-side in a newly peaceful Verona .\n"
     ]
    }
   ],
   "source": [
    "n = 3\n",
    "words = nltk.word_tokenize(text)\n",
    "for i in range(len(words)-n):\n",
    "    gram = ' '.join(words[i:i+n])\n",
    "    if gram not in ngrams.keys():\n",
    "        ngrams[gram] = []\n",
    "    ngrams[gram].append(words[i+n])\n",
    "\n",
    "currentGram = ' '.join(words[0:n])\n",
    "result = currentGram\n",
    "for i in range(300):\n",
    "    if currentGram not in ngrams.keys():\n",
    "        break\n",
    "    possibilities = ngrams[currentGram]\n",
    "    nextItem = possibilities[random.randrange(len(possibilities))]\n",
    "    result += ' '+nextItem\n",
    "    rwords = nltk.word_tokenize(result)\n",
    "    currentGram= ' '.join(rwords[len(rwords)-n:len(rwords)])\n",
    "    \n",
    "print(result)"
   ]
  },
  {
   "cell_type": "markdown",
   "metadata": {},
   "source": [
    "# LATENT SEMANTIC ANALYSIS"
   ]
  },
  {
   "cell_type": "code",
   "execution_count": 52,
   "metadata": {},
   "outputs": [],
   "source": [
    "dataset =[\"the pollution is increasing day by day\",\n",
    "          \"the concert was just great\",\n",
    "         \"i love to see gordon ramsay cook\",\n",
    "          \"google is introducing new technology\",\n",
    "         \"ai robots are examples of great technology\",\n",
    "         \"all of us were singing in the concert\",\n",
    "         \"we have launch campaigns to stop pollution and global warming \"]"
   ]
  },
  {
   "cell_type": "code",
   "execution_count": 53,
   "metadata": {},
   "outputs": [],
   "source": [
    "from sklearn.feature_extraction.text import TfidfVectorizer\n",
    "from sklearn.decomposition import TruncatedSVD"
   ]
  },
  {
   "cell_type": "code",
   "execution_count": 54,
   "metadata": {},
   "outputs": [],
   "source": [
    "dataset = [line.lower() for line in dataset]\n",
    "vectorizer = TfidfVectorizer()\n",
    "X = vectorizer.fit_transform(dataset)"
   ]
  },
  {
   "cell_type": "code",
   "execution_count": 56,
   "metadata": {},
   "outputs": [
    {
     "name": "stdout",
     "output_type": "stream",
     "text": [
      "  (0, 31)\t0.25273521939659943\n",
      "  (0, 24)\t0.29567737618743667\n",
      "  (0, 18)\t0.29567737618743667\n",
      "  (0, 16)\t0.35620094686809833\n",
      "  (0, 8)\t0.7124018937361967\n",
      "  (0, 4)\t0.35620094686809833\n"
     ]
    }
   ],
   "source": [
    "print(X[0])"
   ]
  },
  {
   "cell_type": "code",
   "execution_count": 57,
   "metadata": {},
   "outputs": [],
   "source": [
    "lsa = TruncatedSVD(n_components=4,n_iter=100)"
   ]
  },
  {
   "cell_type": "code",
   "execution_count": 58,
   "metadata": {},
   "outputs": [
    {
     "data": {
      "text/plain": [
       "TruncatedSVD(algorithm='randomized', n_components=4, n_iter=100,\n",
       "       random_state=None, tol=0.0)"
      ]
     },
     "execution_count": 58,
     "metadata": {},
     "output_type": "execute_result"
    }
   ],
   "source": [
    "lsa.fit(X)"
   ]
  },
  {
   "cell_type": "code",
   "execution_count": 64,
   "metadata": {},
   "outputs": [],
   "source": [
    "row1 = lsa.components_[0]\n",
    "concept_words = {}"
   ]
  },
  {
   "cell_type": "code",
   "execution_count": 65,
   "metadata": {},
   "outputs": [],
   "source": [
    "terms = vectorizer.get_feature_names()"
   ]
  },
  {
   "cell_type": "code",
   "execution_count": 68,
   "metadata": {},
   "outputs": [
    {
     "name": "stdout",
     "output_type": "stream",
     "text": [
      "\n",
      "Concept0:\n",
      "0.7673097225108596\n",
      "1.5468449076878752\n",
      "0\n",
      "0.21857641786912893\n",
      "0.8280523692915491\n",
      "1.3374662785676112\n",
      "0\n",
      "\n",
      "Concept1:\n",
      "1.0796987488323746\n",
      "0\n",
      "0.3203394369010802\n",
      "0.22959884465603103\n",
      "0\n",
      "0\n",
      "1.7758746152896934\n",
      "\n",
      "Concept2:\n",
      "0.5158296900829609\n",
      "0\n",
      "0\n",
      "1.6418813498101883\n",
      "0.7851570300076813\n",
      "0\n",
      "0\n",
      "\n",
      "Concept3:\n",
      "1.8670381597443506\n",
      "0.2617389422493017\n",
      "0\n",
      "0.13388565263783903\n",
      "0\n",
      "0.3629802759263771\n",
      "0.18944605113414198\n"
     ]
    }
   ],
   "source": [
    "for i , comp in enumerate(lsa.components_):\n",
    "    componentTerms = zip(terms,comp)\n",
    "    sortedTerms = sorted(componentTerms,key=lambda x:x[1],reverse=True)\n",
    "    sortedTerms = sortedTerms[:10]\n",
    "    concept_words[\"Concept\" +str(i)] = sortedTerms\n",
    "\n",
    "for key in concept_words.keys():\n",
    "    sentence_scores=[]\n",
    "    for sentence in dataset:\n",
    "        words = nltk.word_tokenize(sentence)\n",
    "        score = 0\n",
    "        for word in words:\n",
    "            for word_with_Score in concept_words[key]:\n",
    "                if word == word_with_Score[0]:\n",
    "                    score +=word_with_Score[1]\n",
    "        sentence_scores.append(score)\n",
    "    print(\"\\n\"+key+\":\")\n",
    "    for sentence_scores in sentence_scores:\n",
    "        print(sentence_scores)"
   ]
  },
  {
   "cell_type": "markdown",
   "metadata": {},
   "source": [
    "# WORD SYNONYMS AND ANTONYMS"
   ]
  },
  {
   "cell_type": "code",
   "execution_count": 69,
   "metadata": {},
   "outputs": [],
   "source": [
    "from nltk.corpus import wordnet"
   ]
  },
  {
   "cell_type": "code",
   "execution_count": 73,
   "metadata": {},
   "outputs": [
    {
     "name": "stdout",
     "output_type": "stream",
     "text": [
      "{'near', 'commodity', 'trade_good', 'salutary', 'respectable', 'upright', 'practiced', 'dependable', 'dear', 'in_force', 'unspoilt', 'beneficial', 'honest', 'unspoiled', 'just', 'safe', 'right', 'effective', 'sound', 'well', 'proficient', 'skilful', 'thoroughly', 'ripe', 'soundly', 'goodness', 'good', 'adept', 'estimable', 'serious', 'full', 'secure', 'honorable', 'in_effect', 'skillful', 'undecomposed', 'expert'}\n",
      "{'evilness', 'ill', 'bad', 'badness', 'evil'}\n"
     ]
    }
   ],
   "source": [
    "synonyms=[]\n",
    "antonyms = []\n",
    "for syn in wordnet.synsets(\"good\"):\n",
    "    for s in syn.lemmas():\n",
    "        synonyms.append(s.name())\n",
    "        for a in s.antonyms():\n",
    "            antonyms.append(a.name())\n",
    "print(set(synonyms)) \n",
    "print(set(antonyms))"
   ]
  },
  {
   "cell_type": "markdown",
   "metadata": {},
   "source": [
    "# Word Negation"
   ]
  },
  {
   "cell_type": "code",
   "execution_count": 89,
   "metadata": {},
   "outputs": [],
   "source": [
    "import nltk\n",
    "from nltk.corpus import wordnet\n",
    "sentence = \"i was not happy with the teams performance\"\n",
    "\n",
    "words = nltk.word_tokenize(sentence)\n",
    "\n",
    "new_words = []\n",
    "\n",
    "temp_word = \"\"\n",
    "for word in words:\n",
    "    antonyms = []\n",
    "    if word == \"not\":\n",
    "        temp_word = \"not_\"\n",
    "    elif temp_word ==\"not_\":\n",
    "        for syn in wordnet.synsets(word):\n",
    "            for s in syn.lemmas():\n",
    "                 for a in s.antonyms():\n",
    "                        antonyms.append(a.name())\n",
    "        if len(antonyms) >= 1:\n",
    "            word = antonyms[0]\n",
    "        else:\n",
    "            word = temp_word + word\n",
    "        temp_word = \"\"\n",
    "    if word != \"not\":\n",
    "        new_words.append(word)\n",
    "sentence = ' '.join(new_words)"
   ]
  },
  {
   "cell_type": "code",
   "execution_count": null,
   "metadata": {},
   "outputs": [],
   "source": []
  },
  {
   "cell_type": "code",
   "execution_count": 90,
   "metadata": {},
   "outputs": [
    {
     "data": {
      "text/plain": [
       "'i was unhappy with the teams performance'"
      ]
     },
     "execution_count": 90,
     "metadata": {},
     "output_type": "execute_result"
    }
   ],
   "source": [
    "sentence"
   ]
  },
  {
   "cell_type": "code",
   "execution_count": null,
   "metadata": {},
   "outputs": [],
   "source": []
  }
 ],
 "metadata": {
  "kernelspec": {
   "display_name": "Python 3",
   "language": "python",
   "name": "python3"
  },
  "language_info": {
   "codemirror_mode": {
    "name": "ipython",
    "version": 3
   },
   "file_extension": ".py",
   "mimetype": "text/x-python",
   "name": "python",
   "nbconvert_exporter": "python",
   "pygments_lexer": "ipython3",
   "version": "3.6.5"
  }
 },
 "nbformat": 4,
 "nbformat_minor": 2
}
